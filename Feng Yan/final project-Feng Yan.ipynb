{
 "metadata": {
  "name": "",
  "signature": "sha256:2e6c7abbd49968ce376997250a5e11356393956f1a2626cbe25725a2db07b80b"
 },
 "nbformat": 3,
 "nbformat_minor": 0,
 "worksheets": [
  {
   "cells": [
    {
     "cell_type": "heading",
     "level": 1,
     "metadata": {},
     "source": [
      "The two-dimensional diffusion equation"
     ]
    },
    {
     "cell_type": "markdown",
     "metadata": {},
     "source": [
      "Let's consider the partial differential equation\n",
      "$$\\frac{\\partial T}{\\partial t} = a(\\frac{\\partial^2 T}{\\partial x^2}+\\frac{\\partial^2 T}{\\partial y^2}) (1)$$"
     ]
    },
    {
     "cell_type": "markdown",
     "metadata": {},
     "source": [
      "or more compactly,$$T_t=a(T_xx+T_yy)  (2)$$ on the domain of the unit square (x,y between zero and one). This is the diffusion equation which models diffusive processes such as heat and chemical concentration."
     ]
    },
    {
     "cell_type": "markdown",
     "metadata": {},
     "source": [
      "We approximate u(x,y,t) by the discrete function $T^{n}_{i,j}$, where $x=i{\\Delta x}$, $y=j{\\Delta y}$ and $t=m{\\Delta t}$. Applying finite (forward) difference approximations to the derivatives, then we obtain the partial difference equation $$\\frac{T^{n+1}_{i,j} - T^n_{i,j}}{\\Delta t} = a( \\frac{T^n_{i+1, j} - 2T^n_{i,j} + T^n_{i-1,j}}{\\Delta x^2} + \\frac{T^n_{i, j+1} - 2T^n_{i,j} + T^n_{i,j-1}}{\\Delta y^2}) (3)$$ Rearranging the equation to solve for the value at the next time step, $T^{n+1}_{i,j}$, yields $${T^{n+1}_{i,j}} = T^n_{i,j} + a{\\Delta t} ( \\frac{T^n_{i+1, j} - 2T^n_{i,j} + T^n_{i-1,j}}{\\Delta x^2} + \\frac{T^n_{i, j+1} - 2T^n_{i,j} + T^n_{i,j-1}}{\\Delta y^2})   (4)$$"
     ]
    },
    {
     "cell_type": "heading",
     "level": 4,
     "metadata": {},
     "source": [
      "Stability"
     ]
    },
    {
     "cell_type": "markdown",
     "metadata": {},
     "source": [
      "The stability of the scheme requires that the following condition is met:\n",
      "$${\\Delta t}\\leq\\frac{1}{2a} \\frac{(\\Delta x \\Delta y)^2}{(\\Delta x)^2 + (\\Delta y)^2}  (5)$$ \n",
      "If we set the time interval at the highest value allowed by the condition, we will still see some noise in the solution. Reducing the time-step size can improve this.\n"
     ]
    },
    {
     "cell_type": "heading",
     "level": 4,
     "metadata": {},
     "source": [
      "Initial conditions & boundary values "
     ]
    },
    {
     "cell_type": "markdown",
     "metadata": {},
     "source": [
      "Equation (4) is a blueprint for integrating the solution forward in time, calculating the solution at each time-step based on the solution at the previous time-step. Since a previous time-step is required for each subsequent step, the initial conditions (i.e., $T^0_{i,j}$) must be given. Additionally, the derivatives in the Laplacian require boundary conditions."
     ]
    },
    {
     "cell_type": "markdown",
     "metadata": {},
     "source": [
      "In this problem, I will choose the initial conditions to be a ring centred at (0.5, 0.5), defined by $$ T^0_{i,j} = \\begin{cases}1 & \\text{: } 0.05\\leq (i\\Delta x- 0.5)^2 + (j\\Delta y- 0.5)^2 \\leq 0.1\\\\\n",
      "0 & \\text{:otherwise}\n",
      "\\end{cases} (6)$$\n",
      "We will also choose the boundary conditions to be zero, in agreement with the initial conditions."
     ]
    },
    {
     "cell_type": "heading",
     "level": 4,
     "metadata": {},
     "source": [
      "Coding the problem"
     ]
    },
    {
     "cell_type": "code",
     "collapsed": false,
     "input": [
      "import numpy as np\n",
      "import scipy as sp\n",
      "import matplotlib.pyplot as plt\n",
      "%matplotlib inline\n",
      "from matplotlib import rcParams\n",
      "rcParams['font.family'] = 'serif'\n",
      "rcParams['font.size'] = 16\n",
      "\n",
      "# Declare some variables:\n",
      "dx=0.01        # Interval size in x-direction.\n",
      "dy=0.01        # Interval size in y-direction.\n",
      "a=0.5          # Diffusion constant.\n",
      "timesteps=50  # Number of time-steps to evolve system.\n",
      "\n",
      "nx = int(1/dx)\n",
      "ny = int(1/dy)\n",
      "\n",
      "dx2=dx**2 # compute Delta x^2\n",
      "dy2=dy**2 # and Delta y^2 only once and store them.\n",
      " \n",
      "# for the size of the time-step:\n",
      "dt = dx2*dy2/( 2*a*(dx2+dy2) )\n",
      " \n",
      "# Start T and Ti off as zero matrices:\n",
      "Ti = sp.zeros([nx,ny])\n",
      "T = sp.zeros([nx,ny])\n",
      "\n",
      "# set the initial conditions (ui).\n",
      "for i in range(nx):\n",
      "   for j in range(ny):\n",
      "      if ( ( (i*dx-0.5)**2+(j*dy-0.5)**2 <= 0.1)\n",
      "         & ((i*dx-0.5)**2+(j*dy-0.5)**2>=.05) ):\n",
      "            Ti[i,j] = 1\n",
      " \n",
      "def evolve_ts(T, Ti):\n",
      "   global nx, ny\n",
      "\n",
      " \n",
      "for i in range(1,nx-1):\n",
      "    for j in range(1,ny-1):\n",
      "        Txx = ( Ti[i+1,j] - 2*Ti[i,j] + Ti[i-1, j] )/dx2\n",
      "        Tyy = ( Ti[i,j+1] - 2*Ti[i,j] + Ti[i, j-1] )/dy2\n",
      "        T[i,j] = Ti[i,j]+dt*a*(Txx+Tyy)\n",
      "            \n",
      "# start the time evolution calculation.\n",
      "tstart = time.time()\n",
      "for m in range(1, timesteps+1):\n",
      "   evolve_ts(T, Ti)\n",
      "   print \"Computing T for m =\", m\n",
      "Ti=T\n",
      "tfinish = time.time()\n",
      "\n",
      "print \"Done.\"\n",
      "print \"Total time: \", tfinish-tstart, \"s\"\n",
      "print \"Average time per time-step using numpy: \", ( tfinish - tstart )/timesteps, \"s.\""
     ],
     "language": "python",
     "metadata": {},
     "outputs": [
      {
       "output_type": "stream",
       "stream": "stdout",
       "text": [
        "Computing T for m = 1\n",
        "Computing T for m = 2\n",
        "Computing T for m = 3\n",
        "Computing T for m = 4\n",
        "Computing T for m = 5\n",
        "Computing T for m = 6\n",
        "Computing T for m = 7\n",
        "Computing T for m = 8\n",
        "Computing T for m = 9\n",
        "Computing T for m = 10\n",
        "Computing T for m = 11\n",
        "Computing T for m = 12\n",
        "Computing T for m = 13\n",
        "Computing T for m = 14\n",
        "Computing T for m = 15\n",
        "Computing T for m = 16\n",
        "Computing T for m = 17\n",
        "Computing T for m = 18\n",
        "Computing T for m = 19\n",
        "Computing T for m = 20\n",
        "Computing T for m = 21\n",
        "Computing T for m = 22\n",
        "Computing T for m = 23\n",
        "Computing T for m = 24\n",
        "Computing T for m = 25\n",
        "Computing T for m = 26\n",
        "Computing T for m = 27\n",
        "Computing T for m = 28\n",
        "Computing T for m = 29\n",
        "Computing T for m = 30\n",
        "Computing T for m = 31\n",
        "Computing T for m = 32\n",
        "Computing T for m = 33\n",
        "Computing T for m = 34\n",
        "Computing T for m = 35\n",
        "Computing T for m = 36\n",
        "Computing T for m = 37\n",
        "Computing T for m = 38\n",
        "Computing T for m = 39\n",
        "Computing T for m = 40\n",
        "Computing T for m = 41\n",
        "Computing T for m = 42\n",
        "Computing T for m = 43\n",
        "Computing T for m = 44\n",
        "Computing T for m = 45\n",
        "Computing T for m = 46\n",
        "Computing T for m = 47\n",
        "Computing T for m = 48\n",
        "Computing T for m = 49\n",
        "Computing T for m = 50\n",
        "Done.\n",
        "Total time:  0.000999927520752 s\n",
        "Average time per time-step using numpy:  1.9998550415e-05 s.\n"
       ]
      }
     ],
     "prompt_number": 161
    },
    {
     "cell_type": "code",
     "collapsed": false,
     "input": [
      "def evolve_ts(T, Ti):\n",
      "   \"\"\"\n",
      "   This function uses a numpy expression to\n",
      "   evaluate the derivatives in the Laplacian, and\n",
      "   calculates T[i,j] based on Ti[i,j].\n",
      "   \"\"\"\n",
      "   T[1:-1, 1:-1] = Ti[1:-1, 1:-1] + a*dt*( \n",
      "        (Ti[2:, 1:-1] - 2*Ti[1:-1, 1:-1] +  Ti[:-2, 1:-1])/dx2 \n",
      "        + (Ti[1:-1, 2:] - 2*Ti[1:-1, 1:-1] + Ti[1:-1, :-2])/dy2 )"
     ],
     "language": "python",
     "metadata": {},
     "outputs": [],
     "prompt_number": 162
    },
    {
     "cell_type": "code",
     "collapsed": false,
     "input": [
      "def updatefig(*args):\n",
      "   global T, Ti, m\n",
      "   im.set_array(Ti)\n",
      "   manager.canvas.draw()\n",
      " \n",
      "   T[1:-1, 1:-1] = Ti[1:-1, 1:-1] + a*dt*(\n",
      "      (Ti[2:, 1:-1] - 2*Ti[1:-1, 1:-1] + Ti[:-2, 1:-1])/dx2\n",
      "      + (Ti[1:-1, 2:] - 2*Ti[1:-1, 1:-1] + Ti[1:-1, :-2])/dy2 )\n",
      "   Ti = sp.copy(T)\n",
      "   m+=1\n",
      "   print \"Computing and rendering T for m =\", m\n",
      "   if m >= timesteps:\n",
      "      return False\n",
      "   return True\n"
     ],
     "language": "python",
     "metadata": {},
     "outputs": [],
     "prompt_number": 163
    },
    {
     "cell_type": "code",
     "collapsed": false,
     "input": [
      "plt.figure(figsize=(8,5))\n",
      "fig = plt.figure(1)\n",
      "img = subplot(110)\n",
      "im = img.imshow( Ti, cmap=cm.hot, interpolation='nearest', origin='lower')\n",
      "manager = get_current_fig_manager()\n",
      "plt.xlabel('$x$')\n",
      "plt.ylabel('$y$')\n",
      "fig.colorbar( im ) # Show the colorbar along the side\n",
      " "
     ],
     "language": "python",
     "metadata": {},
     "outputs": [
      {
       "metadata": {},
       "output_type": "pyout",
       "prompt_number": 164,
       "text": [
        "<matplotlib.colorbar.Colorbar instance at 0x0000000013664F08>"
       ]
      },
      {
       "metadata": {},
       "output_type": "display_data",
       "png": "[encoded data removed]",
       "text": [
        "<matplotlib.figure.Figure at 0x122602e8>"
       ]
      }
     ],
     "prompt_number": 164
    },
    {
     "cell_type": "code",
     "collapsed": false,
     "input": [],
     "language": "python",
     "metadata": {},
     "outputs": [],
     "prompt_number": 164
    }
   ],
   "metadata": {}
  }
 ]
}