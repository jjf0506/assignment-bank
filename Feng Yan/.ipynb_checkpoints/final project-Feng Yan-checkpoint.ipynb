{
 "metadata": {
  "name": "",
  "signature": "sha256:68dd05c188b8fbe711817ae18f1c57e180cb25719a54cbc9bb938c62247d7c6f"
 },
 "nbformat": 3,
 "nbformat_minor": 0,
 "worksheets": []
}